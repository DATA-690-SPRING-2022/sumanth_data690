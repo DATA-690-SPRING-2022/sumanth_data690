{
  "nbformat": 4,
  "nbformat_minor": 0,
  "metadata": {
    "colab": {
      "name": "Assignment_04_PartA.ipynb",
      "provenance": [],
      "collapsed_sections": [],
      "authorship_tag": "ABX9TyNOH5JKgVfx1K9qcw89oN3X",
      "include_colab_link": true
    },
    "kernelspec": {
      "name": "python3",
      "display_name": "Python 3"
    },
    "language_info": {
      "name": "python"
    }
  },
  "cells": [
    {
      "cell_type": "markdown",
      "metadata": {
        "id": "view-in-github",
        "colab_type": "text"
      },
      "source": [
        "<a href=\"https://colab.research.google.com/github/Sumanth1242/MKsumanth_data690/blob/main/assignment_04/Assignment_04_PartA.ipynb\" target=\"_parent\"><img src=\"https://colab.research.google.com/assets/colab-badge.svg\" alt=\"Open In Colab\"/></a>"
      ]
    },
    {
      "cell_type": "code",
      "execution_count": 10,
      "metadata": {
        "colab": {
          "base_uri": "https://localhost:8080/"
        },
        "id": "1wsSPzXAZ-X7",
        "outputId": "7daf4e21-f3d6-46ed-8d1b-bdcb62059205"
      },
      "outputs": [
        {
          "output_type": "stream",
          "name": "stdout",
          "text": [
            "['Source: https://www.genealogybranches.com/censuscosts.html\\n', 'Census Year\\tTotal Population\\tCensus Cost\\tAverage Cost Per Person\\n', '1790\\t3,929,214\\t$44,377\\t1.13 cents\\n', '1800\\t5,308,483\\t$66,109\\t1.24 cents\\n', '1810\\t7,239,881\\t$178,445\\t2.46 cents\\n', '1820\\t9,633,822\\t$208,526\\t2.16 cents\\n', '1830\\t12,866,020\\t$378,545\\t2.94 cents\\n', '1840\\t17,069,458\\t$833,371\\t4.88 cents\\n', '1850\\t23,191,876\\t$1,423,351\\t6.14 cents\\n', '1860\\t31,443,321\\t$1,969,377\\t6.26 cents\\n', '1870\\t38,558,371\\t$3,421,198\\t8.87 cents\\n', '1880\\t50,155,783\\t$5,790,678\\t11.54 cents\\n', '1890\\t62,979,766\\t$11,547,127\\t18.33 cents\\n', '1900\\t76,303,387\\t$11,854,000\\t15.54 cents\\n', '1910\\t91,972,266\\t$15,968,000\\t17.07 cents\\n', '1920\\t105,710,620\\t$25,117,000\\t23.76 cents\\n', '1930\\t122,775,046\\t$40,156,000\\t32.71 cents\\n', '1940\\t131,669,275\\t$67,527,000\\t51.29 cents\\n', '1950\\t151,325,798\\t$91,462,000\\t60.44 cents\\n', '1960\\t179,323,175\\t$127,934,000\\t71.34 cents\\n', '1970\\t203,302,031\\t$247,653,000\\t$1.22\\n', '1980\\t226,542,199\\t$1,078,488,000\\t$4.76\\n', '1990\\t248,718,301\\t$2,492,830,000\\t$10.02\\n', '2000\\t281,421,906\\t$4.5 Billion\\t$15.99\\n', '2010*\\t308,745,538\\t$13 Billion\\t$42.11\\n']\n"
          ]
        }
      ],
      "source": [
        "with open(\"census_costs.txt\", \"r\") as f:\n",
        "    line_list = f.readlines()\n",
        "\n",
        "print(line_list)"
      ]
    },
    {
      "cell_type": "code",
      "source": [
        "top2_list = []\n",
        "top2_list.append(line_list[0])\n",
        "top2_list.append(line_list[1])\n",
        "print(top2_list)"
      ],
      "metadata": {
        "colab": {
          "base_uri": "https://localhost:8080/"
        },
        "id": "0Tr6NRNNbAKc",
        "outputId": "75c47c74-57f6-4d52-8e70-7a90ae0fe90d"
      },
      "execution_count": 11,
      "outputs": [
        {
          "output_type": "stream",
          "name": "stdout",
          "text": [
            "['Source: https://www.genealogybranches.com/censuscosts.html\\n', 'Census Year\\tTotal Population\\tCensus Cost\\tAverage Cost Per Person\\n']\n"
          ]
        }
      ]
    },
    {
      "cell_type": "code",
      "source": [
        "data_list =[]\n",
        "for l in range(2,len(line_list)):\n",
        "  data_list.append(line_list[l])\n",
        "print(data_list)"
      ],
      "metadata": {
        "colab": {
          "base_uri": "https://localhost:8080/"
        },
        "id": "_mDvl_BobD9j",
        "outputId": "a85eb6fb-2e7f-4469-b42c-44f49e03388a"
      },
      "execution_count": 12,
      "outputs": [
        {
          "output_type": "stream",
          "name": "stdout",
          "text": [
            "['1790\\t3,929,214\\t$44,377\\t1.13 cents\\n', '1800\\t5,308,483\\t$66,109\\t1.24 cents\\n', '1810\\t7,239,881\\t$178,445\\t2.46 cents\\n', '1820\\t9,633,822\\t$208,526\\t2.16 cents\\n', '1830\\t12,866,020\\t$378,545\\t2.94 cents\\n', '1840\\t17,069,458\\t$833,371\\t4.88 cents\\n', '1850\\t23,191,876\\t$1,423,351\\t6.14 cents\\n', '1860\\t31,443,321\\t$1,969,377\\t6.26 cents\\n', '1870\\t38,558,371\\t$3,421,198\\t8.87 cents\\n', '1880\\t50,155,783\\t$5,790,678\\t11.54 cents\\n', '1890\\t62,979,766\\t$11,547,127\\t18.33 cents\\n', '1900\\t76,303,387\\t$11,854,000\\t15.54 cents\\n', '1910\\t91,972,266\\t$15,968,000\\t17.07 cents\\n', '1920\\t105,710,620\\t$25,117,000\\t23.76 cents\\n', '1930\\t122,775,046\\t$40,156,000\\t32.71 cents\\n', '1940\\t131,669,275\\t$67,527,000\\t51.29 cents\\n', '1950\\t151,325,798\\t$91,462,000\\t60.44 cents\\n', '1960\\t179,323,175\\t$127,934,000\\t71.34 cents\\n', '1970\\t203,302,031\\t$247,653,000\\t$1.22\\n', '1980\\t226,542,199\\t$1,078,488,000\\t$4.76\\n', '1990\\t248,718,301\\t$2,492,830,000\\t$10.02\\n', '2000\\t281,421,906\\t$4.5 Billion\\t$15.99\\n', '2010*\\t308,745,538\\t$13 Billion\\t$42.11\\n']\n"
          ]
        }
      ]
    },
    {
      "cell_type": "code",
      "source": [
        "year_list= []\n",
        "list = data_list[0:25] \n",
        "\n",
        "\n",
        "for col_name in list:\n",
        "  colname = col_name.split(\"\\t\")\n",
        "  year_list.append(colname[0])\n",
        "  \n",
        "year_list[len(year_list)-1] = \"2010\" \n",
        "print(year_list)"
      ],
      "metadata": {
        "colab": {
          "base_uri": "https://localhost:8080/"
        },
        "id": "wODvqqa4bHNI",
        "outputId": "cfb7a8f9-1041-4620-e993-702540cfb017"
      },
      "execution_count": 13,
      "outputs": [
        {
          "output_type": "stream",
          "name": "stdout",
          "text": [
            "['1790', '1800', '1810', '1820', '1830', '1840', '1850', '1860', '1870', '1880', '1890', '1900', '1910', '1920', '1930', '1940', '1950', '1960', '1970', '1980', '1990', '2000', '2010']\n"
          ]
        }
      ]
    },
    {
      "cell_type": "code",
      "source": [
        "list = data_list[0:25] \n",
        "pop_list = []\n",
        "\n",
        "for i in list:  \n",
        "    tp = i.split(\"\\t\")\n",
        "    pop_list.append(tp[1])\n",
        "for j in range(len(pop_list)):\n",
        "    pop_list[j] = pop_list[j].replace(\",\",\"\")\n",
        "print(pop_list)"
      ],
      "metadata": {
        "colab": {
          "base_uri": "https://localhost:8080/"
        },
        "id": "cPiRIc7_bIyh",
        "outputId": "69814ab9-c08e-41eb-f545-c4a9d9671ded"
      },
      "execution_count": 14,
      "outputs": [
        {
          "output_type": "stream",
          "name": "stdout",
          "text": [
            "['3929214', '5308483', '7239881', '9633822', '12866020', '17069458', '23191876', '31443321', '38558371', '50155783', '62979766', '76303387', '91972266', '105710620', '122775046', '131669275', '151325798', '179323175', '203302031', '226542199', '248718301', '281421906', '308745538']\n"
          ]
        }
      ]
    },
    {
      "cell_type": "code",
      "source": [
        "avg_list = []\n",
        "list3 = data_list[0:25] \n",
        "\n",
        "for i in list3:\n",
        "  a = i.split(\"\\t\")\n",
        "  avg_list.append(a[3])\n",
        "\n",
        "s_list= []\n",
        "m = \"\"\n",
        "for i in avg_list:\n",
        "  n = \"cents\"\n",
        "  if n in i:\n",
        "    a\n",
        "    l = i.replace(\"cents\",\"\")\n",
        "    l = float(l)\n",
        "    l = l/100\n",
        "  else:\n",
        "    l = i.replace(\"$\",\"\")\n",
        "  s_list.append(l)\n",
        "for i in range(0,len(s_list)):\n",
        "  avg_list[i] = s_list[i]\n",
        "print(avg_list)\n"
      ],
      "metadata": {
        "colab": {
          "base_uri": "https://localhost:8080/"
        },
        "id": "EXAtMCxzbOAn",
        "outputId": "da8fdd67-a54a-4e44-f331-8b84b7c8823b"
      },
      "execution_count": 18,
      "outputs": [
        {
          "output_type": "stream",
          "name": "stdout",
          "text": [
            "[0.0113, 0.0124, 0.0246, 0.0216, 0.0294, 0.048799999999999996, 0.061399999999999996, 0.0626, 0.08869999999999999, 0.11539999999999999, 0.1833, 0.15539999999999998, 0.1707, 0.2376, 0.3271, 0.5129, 0.6043999999999999, 0.7134, '1.22\\n', '4.76\\n', '10.02\\n', '15.99\\n', '42.11\\n']\n"
          ]
        }
      ]
    },
    {
      "cell_type": "code",
      "source": [
        "end_list=[]\n",
        "end_list.append(top2_list[0])\n",
        "end_list.append(top2_list[1])\n",
        "for i in range(0,len(pop_list)):\n",
        "  k = year_list[i]+\"  \"+pop_list[i]+\" \"+cost_list[i]+\"  \"+str(avg_list[i])\n",
        "  end_list.append(k)\n",
        "print(end_list)"
      ],
      "metadata": {
        "colab": {
          "base_uri": "https://localhost:8080/"
        },
        "id": "AJMn9eizbZoI",
        "outputId": "2edf36d1-73c9-4b95-a087-450a3413acb7"
      },
      "execution_count": 21,
      "outputs": [
        {
          "output_type": "stream",
          "name": "stdout",
          "text": [
            "['Source: https://www.genealogybranches.com/censuscosts.html\\n', 'Census Year\\tTotal Population\\tCensus Cost\\tAverage Cost Per Person\\n', '1790  3929214 44377  0.0113', '1800  5308483 66109  0.0124', '1810  7239881 178445  0.0246', '1820  9633822 208526  0.0216', '1830  12866020 378545  0.0294', '1840  17069458 833371  0.048799999999999996', '1850  23191876 1423351  0.061399999999999996', '1860  31443321 1969377  0.0626', '1870  38558371 3421198  0.08869999999999999', '1880  50155783 5790678  0.11539999999999999', '1890  62979766 11547127  0.1833', '1900  76303387 11854000  0.15539999999999998', '1910  91972266 15968000  0.1707', '1920  105710620 25117000  0.2376', '1930  122775046 40156000  0.3271', '1940  131669275 67527000  0.5129', '1950  151325798 91462000  0.6043999999999999', '1960  179323175 127934000  0.7134', '1970  203302031 247653000  1.22\\n', '1980  226542199 1078488000  4.76\\n', '1990  248718301 2492830000  10.02\\n', '2000  281421906 4.5000000000  15.99\\n', '2010  308745538 13000000000  42.11\\n']\n"
          ]
        }
      ]
    },
    {
      "cell_type": "code",
      "source": [
        "import csv\n",
        "with open(\"census_cost.csv\",\"w\") as f:\n",
        "  for p in end_list:\n",
        "    f.write(p)"
      ],
      "metadata": {
        "id": "Fp4wgfxgbdSo"
      },
      "execution_count": 22,
      "outputs": []
    }
  ]
}