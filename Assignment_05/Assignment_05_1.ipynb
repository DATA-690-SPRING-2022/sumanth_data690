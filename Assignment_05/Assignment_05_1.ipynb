{
  "nbformat": 4,
  "nbformat_minor": 0,
  "metadata": {
    "colab": {
      "name": "Assignment_05-1.ipynb",
      "provenance": [],
      "authorship_tag": "ABX9TyPO+wuhCU4GoHS0zLU6v9na",
      "include_colab_link": true
    },
    "kernelspec": {
      "name": "python3",
      "display_name": "Python 3"
    },
    "language_info": {
      "name": "python"
    }
  },
  "cells": [
    {
      "cell_type": "markdown",
      "metadata": {
        "id": "view-in-github",
        "colab_type": "text"
      },
      "source": [
        "<a href=\"https://colab.research.google.com/github/Sumanth1242/MKsumanth_data690/blob/main/Assignment_05/Assignment_05_1.ipynb\" target=\"_parent\"><img src=\"https://colab.research.google.com/assets/colab-badge.svg\" alt=\"Open In Colab\"/></a>"
      ]
    },
    {
      "cell_type": "markdown",
      "source": [
        "## 1) What is Data Analysis, why Python?, what other options are there?\n",
        "### * The practice of systematically applying statistical and/or logical approaches to explain and demonstrate, condense and recap, and assess data is known as data analysis.\n",
        "### *Python is a prominent multi-purpose programming language that is popular for its flexibility and large library of libraries, which are useful for analytics and sophisticated calculations.\n",
        "### *JavaScript,R,Julia,Scala,Go are the other options for data analysis.\n",
        "## 2) what's the cycle of a Data Analysis project?\n",
        "### *The Data Analytics Lifecycle describes how data is generated, collected, processed, utilised, and analyzed in order to meet business objectives.\n",
        "## 3)What's the difference between Data Analysis and Data Science?\n",
        "### *Data Analysis:To assist businesses in making better strategic decisions, data analysts evaluate enormous data sets to discover trends, build charts, and create visual presentations.\n",
        "\n",
        "### *Data science:Data scientists, on the other hand, use prototypes, algorithms, predictive models, and specialized analyses to create and build new data modeling and production processes.\n",
        "\n"
      ],
      "metadata": {
        "id": "PkAuNZh_MrQP"
      }
    }
  ]
}