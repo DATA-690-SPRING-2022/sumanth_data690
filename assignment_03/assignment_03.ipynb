{
  "nbformat": 4,
  "nbformat_minor": 0,
  "metadata": {
    "colab": {
      "name": "assignment_03.ipynb",
      "provenance": [],
      "authorship_tag": "ABX9TyNjIsTYFpTi37Yn+2H6EoUF",
      "include_colab_link": true
    },
    "kernelspec": {
      "name": "python3",
      "display_name": "Python 3"
    },
    "language_info": {
      "name": "python"
    }
  },
  "cells": [
    {
      "cell_type": "markdown",
      "metadata": {
        "id": "view-in-github",
        "colab_type": "text"
      },
      "source": [
        "<a href=\"https://colab.research.google.com/github/Sumanth1242/MKsumanth_data690/blob/main/assignment_03/assignment_03.ipynb\" target=\"_parent\"><img src=\"https://colab.research.google.com/assets/colab-badge.svg\" alt=\"Open In Colab\"/></a>"
      ]
    },
    {
      "cell_type": "markdown",
      "source": [
        "# 1.Printing 100 random numbers in a 10 by 10 matrix"
      ],
      "metadata": {
        "id": "rKZ-iLxjJ7NU"
      }
    },
    {
      "cell_type": "code",
      "source": [
        "import random"
      ],
      "metadata": {
        "id": "xgCVh1wfJ65k"
      },
      "execution_count": 3,
      "outputs": []
    },
    {
      "cell_type": "code",
      "execution_count": 6,
      "metadata": {
        "colab": {
          "base_uri": "https://localhost:8080/"
        },
        "id": "qjSZnI6GFML5",
        "outputId": "9f7e50ae-28bf-4068-8b3f-b342edccc2ac"
      },
      "outputs": [
        {
          "output_type": "stream",
          "name": "stdout",
          "text": [
            "1 8 2 2 5 3 9 0 6 5 \n",
            "7 8 9 9 4 1 3 4 7 0 \n",
            "8 6 7 5 8 9 0 7 8 1 \n",
            "1 1 3 8 3 7 9 7 4 4 \n",
            "0 1 3 3 0 5 9 2 8 9 \n",
            "6 9 3 5 2 9 3 1 0 5 \n",
            "9 8 9 9 5 5 4 4 8 2 \n",
            "1 3 3 2 4 3 1 4 4 2 \n",
            "5 6 3 3 4 8 9 5 3 2 \n",
            "6 4 3 6 7 5 9 6 7 5 \n"
          ]
        }
      ],
      "source": [
        "for i in range(10):\n",
        "  for j in range(10):\n",
        "    print(random.randint(0,9),end=\" \")\n",
        "  print()\n"
      ]
    },
    {
      "cell_type": "markdown",
      "source": [
        "#  2.printing \"@\",If the random number is an odd number"
      ],
      "metadata": {
        "id": "ayeZIT-QLrUo"
      }
    },
    {
      "cell_type": "code",
      "source": [
        "for i in range(10):\n",
        "  for j in range(10):\n",
        "    x=random.randint(0,9)\n",
        "    if(x+1)%2==0:\n",
        "      x=\"@\"\n",
        "      print(x,end=\" \")\n",
        "    else:\n",
        "      print(x,end=\" \")\n",
        "  print()"
      ],
      "metadata": {
        "colab": {
          "base_uri": "https://localhost:8080/"
        },
        "id": "KyJiDCMHKc1N",
        "outputId": "3b1d6937-8a96-4e4f-afb0-b8819d265f4c"
      },
      "execution_count": 7,
      "outputs": [
        {
          "output_type": "stream",
          "name": "stdout",
          "text": [
            "@ 8 @ @ 8 @ 4 @ @ 8 \n",
            "@ 8 @ @ @ 0 @ @ @ 2 \n",
            "@ @ 0 @ @ @ @ 2 @ @ \n",
            "0 4 4 4 4 @ 8 @ @ @ \n",
            "@ 2 @ @ @ @ @ 2 0 @ \n",
            "6 @ @ @ @ @ @ 2 0 @ \n",
            "4 0 4 @ 4 @ @ @ 8 @ \n",
            "@ @ 4 0 4 @ 0 @ @ @ \n",
            "@ @ @ @ @ @ @ 4 @ 0 \n",
            "@ 6 @ @ 2 @ @ 4 @ 6 \n"
          ]
        }
      ]
    },
    {
      "cell_type": "markdown",
      "source": [
        "# 3.Calculating and Printing the total of each row"
      ],
      "metadata": {
        "id": "f7Ra0ChyR-6i"
      }
    },
    {
      "cell_type": "code",
      "source": [
        "for i in range(10):\n",
        "  l=[]\n",
        "  for j in range(12):\n",
        "    if j<10:\n",
        "      x=random.randint(0,9)\n",
        "      l.append(x)\n",
        "      print(x,end=\" \")\n",
        "    elif j==10:\n",
        "      print(\"*\",end=\" \")\n",
        "    else:\n",
        "      s=sum(l)\n",
        "      print(s,end=\" \") \n",
        "  print()\n"
      ],
      "metadata": {
        "colab": {
          "base_uri": "https://localhost:8080/"
        },
        "id": "MAYMiSG-LsrV",
        "outputId": "cc92e32f-39c8-4987-8478-7a86ba7093d4"
      },
      "execution_count": 8,
      "outputs": [
        {
          "output_type": "stream",
          "name": "stdout",
          "text": [
            "6 8 5 8 6 4 7 7 5 4 * 60 \n",
            "8 6 8 7 9 6 4 3 0 3 * 54 \n",
            "2 5 7 7 6 4 3 7 8 2 * 51 \n",
            "0 4 6 7 9 5 6 1 2 8 * 48 \n",
            "8 3 0 1 9 6 6 7 6 3 * 49 \n",
            "1 6 2 4 9 6 5 1 8 6 * 48 \n",
            "1 8 7 3 4 7 5 4 6 7 * 52 \n",
            "8 5 2 7 9 5 0 4 3 3 * 46 \n",
            "6 7 1 0 6 3 5 5 6 0 * 39 \n",
            "1 9 4 0 9 0 5 8 9 3 * 48 \n"
          ]
        }
      ]
    },
    {
      "cell_type": "markdown",
      "source": [
        "# 4.Surround the matrix with asterisks"
      ],
      "metadata": {
        "id": "Qy0qX4KhSBAK"
      }
    },
    {
      "cell_type": "code",
      "source": [
        "for i in range(12):\n",
        "  for j in range(25):\n",
        "    if ((i==0) or (i==11)):\n",
        "      print(\"*\", end=\"\")\n",
        "    elif ((j==0) or (j==12)):\n",
        "      print(\"*\", end=\" \")\n",
        "    elif((j>0)and(j<12)):\n",
        "    #else:\n",
        "      print(random.randint(0,9),end=\" \")\n",
        "  print()"
      ],
      "metadata": {
        "colab": {
          "base_uri": "https://localhost:8080/"
        },
        "id": "16bYH_VLR-Uj",
        "outputId": "296f0ff2-9e31-4b0c-a759-df1f2b6a9ea5"
      },
      "execution_count": 9,
      "outputs": [
        {
          "output_type": "stream",
          "name": "stdout",
          "text": [
            "*************************\n",
            "* 0 3 7 6 9 6 6 3 6 1 3 * \n",
            "* 3 6 8 8 1 1 3 0 8 0 9 * \n",
            "* 2 5 2 4 1 2 5 7 4 4 2 * \n",
            "* 2 2 1 2 8 5 9 8 7 8 0 * \n",
            "* 9 0 8 0 7 9 8 7 2 0 4 * \n",
            "* 4 1 2 7 2 1 5 6 6 4 0 * \n",
            "* 0 1 2 3 0 5 6 1 2 8 5 * \n",
            "* 3 6 5 4 3 5 3 1 9 8 2 * \n",
            "* 7 8 3 5 7 5 5 3 9 1 2 * \n",
            "* 5 3 6 9 1 0 5 1 7 3 3 * \n",
            "*************************\n"
          ]
        }
      ]
    },
    {
      "cell_type": "markdown",
      "source": [
        "# 5. Calculating and Printing the total of each row and column"
      ],
      "metadata": {
        "id": "cpEz8rnOZKeX"
      }
    },
    {
      "cell_type": "code",
      "source": [
        "l=[]\n",
        "for i in range(12):\n",
        "  k=[]\n",
        "  for j in range(12):\n",
        "    if ((i<10)and(j<10)):\n",
        "      x=random.randint(1,9)\n",
        "      l.append(x)\n",
        "      k.append(x)\n",
        "      print(x,end=\"  \")\n",
        "    elif (((i==10)and(j<10))or((j==10)and(i<10))):\n",
        "      print(\"*\",end=\"  \")\n",
        "    elif ((j<10)and(i==11)):\n",
        "        s=0\n",
        "        n=j\n",
        "        while n<100:\n",
        "          s=s+l[n]\n",
        "          n=n+10\n",
        "        print(s,end=\" \") \n",
        "    elif((j==11)and(i<10)):\n",
        "        r=sum(k) \n",
        "        print(r,end=\" \")\n",
        "  print()   "
      ],
      "metadata": {
        "colab": {
          "base_uri": "https://localhost:8080/"
        },
        "id": "AwDry9gPZLMS",
        "outputId": "01a4f550-2790-46d2-fec2-df3103f5fbd3"
      },
      "execution_count": 10,
      "outputs": [
        {
          "output_type": "stream",
          "name": "stdout",
          "text": [
            "3  5  2  1  8  3  1  6  2  2  *  33 \n",
            "8  7  3  5  4  3  6  5  8  1  *  50 \n",
            "4  8  5  6  2  6  3  9  6  2  *  51 \n",
            "7  4  8  8  7  1  7  9  8  2  *  61 \n",
            "6  5  3  8  3  8  6  8  6  8  *  61 \n",
            "5  2  2  2  4  9  7  5  3  3  *  42 \n",
            "2  5  9  6  4  8  4  6  2  3  *  49 \n",
            "2  7  1  9  5  1  5  4  8  6  *  48 \n",
            "9  1  8  2  2  8  7  3  3  2  *  45 \n",
            "5  6  6  7  4  8  9  8  7  3  *  63 \n",
            "*  *  *  *  *  *  *  *  *  *  \n",
            "51 50 47 54 43 55 55 63 53 32 \n"
          ]
        }
      ]
    }
  ]
}