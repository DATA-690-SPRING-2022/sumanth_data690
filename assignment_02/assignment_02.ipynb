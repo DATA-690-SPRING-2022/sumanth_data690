{
  "nbformat": 4,
  "nbformat_minor": 0,
  "metadata": {
    "colab": {
      "name": "assignment_02.ipynb",
      "provenance": [],
      "authorship_tag": "ABX9TyPXcU6lAziDZk/LViCbcazL",
      "include_colab_link": true
    },
    "kernelspec": {
      "name": "python3",
      "display_name": "Python 3"
    },
    "language_info": {
      "name": "python"
    }
  },
  "cells": [
    {
      "cell_type": "markdown",
      "metadata": {
        "id": "view-in-github",
        "colab_type": "text"
      },
      "source": [
        "<a href=\"https://colab.research.google.com/github/Sumanth1242/MKsumanth_data690/blob/main/assignment_02/assignment_02.ipynb\" target=\"_parent\"><img src=\"https://colab.research.google.com/assets/colab-badge.svg\" alt=\"Open In Colab\"/></a>"
      ]
    },
    {
      "cell_type": "markdown",
      "source": [
        "# 1.Input 10 integers"
      ],
      "metadata": {
        "id": "iYfJwLYjPM3b"
      }
    },
    {
      "cell_type": "code",
      "execution_count": 5,
      "metadata": {
        "colab": {
          "base_uri": "https://localhost:8080/"
        },
        "id": "4pdYBZVKNU2B",
        "outputId": "29967532-531a-459d-8f3a-d349e33643ed"
      },
      "outputs": [
        {
          "output_type": "stream",
          "name": "stdout",
          "text": [
            "2\n",
            "3\n",
            "8\n",
            "9\n",
            "6\n",
            "5\n",
            "5\n",
            "4\n",
            "1\n",
            "0\n",
            "[2, 3, 8, 9, 6, 5, 5, 4, 1, 0]\n"
          ]
        }
      ],
      "source": [
        "list_int=[]\n",
        "for i in range(10):\n",
        "  try:\n",
        "    n=int(input())\n",
        "  except:\n",
        "    print(\"enter a valid input\")\n",
        "  list_int.append(n)\n",
        "print(list_int)\n",
        "\n",
        "\n",
        "\n"
      ]
    },
    {
      "cell_type": "markdown",
      "source": [
        "# 2. Sorting "
      ],
      "metadata": {
        "id": "LpSN_bcEPpj1"
      }
    },
    {
      "cell_type": "code",
      "source": [
        "for i in range(0,10):\n",
        "  for j in range(i+1,10):\n",
        "    if(list_int[i]>list_int[j]):\n",
        "      x=list_int[i]\n",
        "      list_int[i]=list_int[j]\n",
        "      list_int[j]=x\n",
        "print(list_int)"
      ],
      "metadata": {
        "colab": {
          "base_uri": "https://localhost:8080/"
        },
        "id": "lPCicUEsP_Rd",
        "outputId": "0e061819-af6d-489a-99a0-e34872c239c2"
      },
      "execution_count": 6,
      "outputs": [
        {
          "output_type": "stream",
          "name": "stdout",
          "text": [
            "[0, 1, 2, 3, 4, 5, 5, 6, 8, 9]\n"
          ]
        }
      ]
    },
    {
      "cell_type": "markdown",
      "source": [
        "# 3. Maximum"
      ],
      "metadata": {
        "id": "0S9eRN0BQ64s"
      }
    },
    {
      "cell_type": "code",
      "source": [
        "max=print(list_int[len(list_int)-1])"
      ],
      "metadata": {
        "colab": {
          "base_uri": "https://localhost:8080/"
        },
        "id": "wOLgnGWcRAFS",
        "outputId": "a57621cf-9f6b-4b4c-a6f6-4d8ebb3c78ad"
      },
      "execution_count": 10,
      "outputs": [
        {
          "output_type": "stream",
          "name": "stdout",
          "text": [
            "9\n"
          ]
        }
      ]
    },
    {
      "cell_type": "markdown",
      "source": [
        "# 4.Minimum"
      ],
      "metadata": {
        "id": "VBx_cFvERthY"
      }
    },
    {
      "cell_type": "code",
      "source": [
        "min=print(list_int[0])"
      ],
      "metadata": {
        "colab": {
          "base_uri": "https://localhost:8080/"
        },
        "id": "aPxnOAAVRykB",
        "outputId": "0bb88109-193d-4bc6-8689-a9a94a34f469"
      },
      "execution_count": 12,
      "outputs": [
        {
          "output_type": "stream",
          "name": "stdout",
          "text": [
            "0\n"
          ]
        }
      ]
    },
    {
      "cell_type": "markdown",
      "source": [
        "# 5. Mean"
      ],
      "metadata": {
        "id": "NG6oSUp5SAOo"
      }
    },
    {
      "cell_type": "code",
      "source": [
        "sum=0\n",
        "for i in range(10):\n",
        "  sum=list_int[i]+sum\n",
        "mean=sum/len(list_int)\n",
        "print(mean)"
      ],
      "metadata": {
        "colab": {
          "base_uri": "https://localhost:8080/"
        },
        "id": "0U3bcywBSE4X",
        "outputId": "c0a159ea-0fc1-4177-e796-caeafadc6ab5"
      },
      "execution_count": 13,
      "outputs": [
        {
          "output_type": "stream",
          "name": "stdout",
          "text": [
            "4.3\n"
          ]
        }
      ]
    },
    {
      "cell_type": "markdown",
      "source": [
        "# 6. Variance\n"
      ],
      "metadata": {
        "id": "2SQ1YDpDS2cv"
      }
    },
    {
      "cell_type": "code",
      "source": [
        "for i in range(10): \n",
        "  list_int[i] = list_int[i] - mean \n",
        "for i in range(10):\n",
        " a=i**2\n",
        "sos=0  \n",
        "for i in range(10):\n",
        "  sos+=i*i;\n",
        "\n",
        "var = sos/len(list_int)\n",
        "print( var)"
      ],
      "metadata": {
        "colab": {
          "base_uri": "https://localhost:8080/"
        },
        "id": "rxu_ZbO-S7cv",
        "outputId": "ee5e6b30-0ec1-4f76-85f6-d1a9b50da614"
      },
      "execution_count": 15,
      "outputs": [
        {
          "output_type": "stream",
          "name": "stdout",
          "text": [
            "28.5\n"
          ]
        }
      ]
    },
    {
      "cell_type": "markdown",
      "source": [
        "# 7. Standard Deviation"
      ],
      "metadata": {
        "id": "CPqW_z2ZUVH8"
      }
    },
    {
      "cell_type": "code",
      "source": [
        "sd=var**0.5\n",
        "print(sd)"
      ],
      "metadata": {
        "colab": {
          "base_uri": "https://localhost:8080/"
        },
        "id": "jHVW1FIZUcI0",
        "outputId": "c395ce35-3fd8-42ad-e07d-73d8592aa5a4"
      },
      "execution_count": 16,
      "outputs": [
        {
          "output_type": "stream",
          "name": "stdout",
          "text": [
            "5.338539126015656\n"
          ]
        }
      ]
    }
  ]
}