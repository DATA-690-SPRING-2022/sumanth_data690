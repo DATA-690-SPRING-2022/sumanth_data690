{
  "nbformat": 4,
  "nbformat_minor": 0,
  "metadata": {
    "colab": {
      "name": "Indvidual_project_part-A.ipynb",
      "provenance": [],
      "authorship_tag": "ABX9TyNqlpQmZ1+z4BXzpGlaKh+E",
      "include_colab_link": true
    },
    "kernelspec": {
      "name": "python3",
      "display_name": "Python 3"
    },
    "language_info": {
      "name": "python"
    }
  },
  "cells": [
    {
      "cell_type": "markdown",
      "metadata": {
        "id": "view-in-github",
        "colab_type": "text"
      },
      "source": [
        "<a href=\"https://colab.research.google.com/github/Sumanth1242/MKsumanth_data690/blob/main/world_development_explorer/Indvidual_project_part_A.ipynb\" target=\"_parent\"><img src=\"https://colab.research.google.com/assets/colab-badge.svg\" alt=\"Open In Colab\"/></a>"
      ]
    },
    {
      "cell_type": "markdown",
      "source": [
        "### NAME-KEERTHI SUMANTH MEKA\n",
        "# Factors that influence the economy and growth of a country\n",
        "## INDICATORS:\n",
        "- Exports of goods and services (% of GDP)\n",
        "- Trade (% of GDP)\n",
        "- Industry (including construction), value added (% of GDP)\n",
        "- GDP per capita, PPP (current international $)\n",
        "## Countries compared:\n",
        "- India\n",
        "- United states\n",
        "- Bangladesh\n",
        "- Afganisthan\n",
        "- Sri Lanka\n",
        "## Introduction:\n",
        "- Economic growth is defined as a rise or improvement in the market value of an economy's commodities and services through time. This expansion is likewise proportional to the percent rate of rise in real Gross Domestic Product (GDP).\n",
        "# Economic growth due to exports of goods and services:\n",
        "-  Export sales growth generates revenue and earnings for firms, allowing them to boost capital expenditure. Higher investment boosts a country's production capacity, which in turn boosts its export potential.\n",
        "![Image](PLot_1.png)\n",
        "- In the year 2016, the percentage of exports of goods and services contributing to GDP by various countries is depicted in the bar graph above.\n",
        "- Exports of goods and servieces of United Kingdom serves 27.2% to its GDP and stand at the top which serves more percentage to GDP through its exports\n",
        "- The United States exports of goods and services contribute 70.8 percent to its GDP, making it the country with the highest proportion of GDP contributed by exports.\n",
        "- Sri Lanka with 14.9% of the market, followed by India with 7.13%,Bangladesh with 4.7% and Afganisthan with 2.42%.\n",
        "# Economic growth due to Industries:\n",
        "- Industrial progress has generally resulted in periods of economic expansion. Increased employment opportunities are provided by industrialization, which raises community income and contributes to the country's economic progress.\n",
        "![Image](PLot_2.png)\n",
        "- From 2016 through 2021, the graph above depicts the percentage of a country's GDP provided by industries.\n",
        "- The above graph shows us the percentage of the countries GDP which is provided by the industries from 2016-2021.\n",
        "- Sri Lanka is at the top of the list, with industries accounting for 25.2 percent of its GDP. \n",
        "- India begins with 27 percent of GDP provided by industries and finishes in third place with 24.2 percent at the end of 2021.\n",
        "- Bangladesh is the only country whose statistics have improved over time, and due to the pandemic, the percentage has fallen by 1% from 2019 to 2021.\n",
        "# Economic growth due to Trades:\n",
        "- Countries that are open to international commerce expand faster, increase productivity, and provide higher income and more possibilities to their citizens, all of which contribute to the country's economic progress.\n",
        "![Image](PLot_3.png)\n",
        "- The graph above illustrates that international trade accounts for 56 percent of the United Kingdom's GDP. The United States, on the other hand, only serves 26% of the world through its trading programs.\n",
        "# GDP per capita, PPP (current international $):\n",
        "- The gross domestic product (GDP) is a metric that measures the economic output of a country. The number of goods and services produced in a country with a higher GDP will be greater.\n",
        "![Image](PLot_4.png)\n",
        "- The United States has the highest GDP of 68.4%, while Afganisthan has the lowest GDP of 0.29 percent, as shown in the chart above. Despite minimal contributions from exports and trade to the United States, science and technology have contributed to the country's higher GDP than other countries.\n",
        "# Conclusion:\n",
        "- We learned how exports of goods and services, industry, and trade contribute to the economic growth of the respective countries from the above information. We also compared the GDP per capita of five other countries.\n",
        "\n",
        "\n"
      ],
      "metadata": {
        "id": "5IlqGg4CjUVx"
      }
    },
    {
      "cell_type": "markdown",
      "source": [
        ""
      ],
      "metadata": {
        "id": "8kM2FfbojUn-"
      }
    },
    {
      "cell_type": "markdown",
      "source": [
        ""
      ],
      "metadata": {
        "id": "0xMKcx3ijU2E"
      }
    }
  ]
}